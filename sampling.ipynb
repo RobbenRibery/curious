{
 "cells": [
  {
   "cell_type": "code",
   "execution_count": 4,
   "metadata": {},
   "outputs": [
    {
     "name": "stdout",
     "output_type": "stream",
     "text": [
      "Enhanced Sampling Order:\n",
      "repoC: 5 descendants | 0 parents | Score: 5.00\n",
      "repoB: 4 descendants | 1 parents | Score: 2.00\n",
      "repoA: 3 descendants | 2 parents | Score: 1.00\n",
      "repoD: 2 descendants | 2 parents | Score: 0.67\n",
      "repoE: 1 descendants | 1 parents | Score: 0.50\n"
     ]
    }
   ],
   "source": [
    "from collections import defaultdict, deque\n",
    "import heapq\n",
    "\n",
    "# Sample repo dependency data (child -> parents)\n",
    "dependencies = {\n",
    "    \"repoA\": [\"repoB\", \"repoC\"],\n",
    "    \"repoB\": [\"repoC\"],\n",
    "    \"repoC\": [],\n",
    "    \"repoD\": [\"repoA\", \"repoB\"],\n",
    "    \"repoE\": [\"repoD\"],\n",
    "    \"repoF\": [\"repoE\"]\n",
    "}\n",
    "\n",
    "# Build full descendant map (child + grandchildren + etc.)\n",
    "reverse_deps = defaultdict(list)\n",
    "for child, parents in dependencies.items():\n",
    "    for parent in parents:\n",
    "        reverse_deps[parent].append(child)\n",
    "\n",
    "def get_all_descendants(repo):\n",
    "    \"\"\"BFS to find all repos that ultimately depend on this repo\"\"\"\n",
    "    visited = set()\n",
    "    queue = deque([repo])\n",
    "    \n",
    "    while queue:\n",
    "        current = queue.popleft()\n",
    "        for child in reverse_deps.get(current, []):\n",
    "            if child not in visited:\n",
    "                visited.add(child)\n",
    "                queue.append(child)\n",
    "    return visited\n",
    "\n",
    "# Build repo metadata with full descendant counts\n",
    "repo_metadata = {}\n",
    "for repo in dependencies:\n",
    "    num_parents = len(dependencies[repo])\n",
    "    descendants = get_all_descendants(repo)\n",
    "    num_descendants = len(descendants)\n",
    "    \n",
    "    repo_metadata[repo] = {\n",
    "        \"num_parents\": num_parents,\n",
    "        \"num_descendants\": num_descendants,\n",
    "        \"descendants\": descendants\n",
    "    }\n",
    "\n",
    "# Filter out repos without any descendants\n",
    "filtered_repos = {k:v for k,v in repo_metadata.items() if v[\"num_descendants\"] > 0}\n",
    "\n",
    "# Natural priority ratio without artificial scaling\n",
    "def calculate_priority(repo_data):\n",
    "    \"\"\"Prioritize repos with many descendants and few dependencies\"\"\"\n",
    "    return repo_data[\"num_descendants\"] / (repo_data[\"num_parents\"] + 1)\n",
    "\n",
    "# Create priority queue using max-heap\n",
    "priority_queue = []\n",
    "for repo, data in filtered_repos.items():\n",
    "    heapq.heappush(priority_queue, (-calculate_priority(data), repo))  # Negative for max-heap\n",
    "\n",
    "# Sampling order\n",
    "print(\"Enhanced Sampling Order:\")\n",
    "while priority_queue:\n",
    "    score, repo = heapq.heappop(priority_queue)\n",
    "    data = filtered_repos[repo]\n",
    "    print(f\"{repo}: {data['num_descendants']} descendants | {data['num_parents']} parents | Score: {-score:.2f}\")"
   ]
  },
  {
   "cell_type": "code",
   "execution_count": null,
   "metadata": {},
   "outputs": [],
   "source": []
  }
 ],
 "metadata": {
  "kernelspec": {
   "display_name": ".venv",
   "language": "python",
   "name": "python3"
  },
  "language_info": {
   "codemirror_mode": {
    "name": "ipython",
    "version": 3
   },
   "file_extension": ".py",
   "mimetype": "text/x-python",
   "name": "python",
   "nbconvert_exporter": "python",
   "pygments_lexer": "ipython3",
   "version": "3.13.2"
  }
 },
 "nbformat": 4,
 "nbformat_minor": 2
}
